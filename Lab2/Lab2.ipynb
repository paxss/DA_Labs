{
 "cells": [
  {
   "cell_type": "markdown",
   "metadata": {},
   "source": [
    "<h1 style='text-align: center;'>Лабораторна робота 2</h1>\n",
    "\n",
    "<p style='text-align: end;'><b>ФБ-21 Жиговець Олександр</b></p>\n",
    "\n",
    "<br>\n",
    "\n",
    "<p> \n",
    "<b>Мета роботи:</b> Ознайомитися з основними кроками по роботі з даними - workflow від постановки задачі до написання пояснювальної записки, зрозуміти постановку задачі та природу даних, над якими виконуються аналітичні операції.\n",
    "</p>\n",
    "\n",
    "<br>\n",
    "\n",
    "<p>\n",
    "<b>Основні поняття:</b> raw data, data preparation\n",
    "</p>\n",
    "\n",
    "<hr>"
   ]
  },
  {
   "cell_type": "markdown",
   "metadata": {},
   "source": [
    "\n",
    "<h2 style=\"text-align:center;\">Імпорт бібліотек</h2>"
   ]
  },
  {
   "cell_type": "code",
   "execution_count": 1,
   "metadata": {},
   "outputs": [],
   "source": [
    "import datetime\n",
    "import pandas as pd\n",
    "import urllib.request\n",
    "\n",
    "import glob"
   ]
  },
  {
   "cell_type": "markdown",
   "metadata": {},
   "source": [
    "<hr>\n",
    "\n",
    "<h2 style=\"text-align:center;\">Завантаження файлів</h2>"
   ]
  },
  {
   "cell_type": "code",
   "execution_count": 9,
   "metadata": {},
   "outputs": [
    {
     "name": "stdout",
     "output_type": "stream",
     "text": [
      "VHI 1 is downloaded...\n",
      "VHI 2 is downloaded...\n",
      "VHI 3 is downloaded...\n",
      "VHI 4 is downloaded...\n",
      "VHI 5 is downloaded...\n",
      "VHI 6 is downloaded...\n",
      "VHI 7 is downloaded...\n",
      "VHI 8 is downloaded...\n",
      "VHI 9 is downloaded...\n",
      "VHI 10 is downloaded...\n",
      "VHI 11 is downloaded...\n",
      "VHI 12 is downloaded...\n",
      "VHI 13 is downloaded...\n",
      "VHI 14 is downloaded...\n",
      "VHI 15 is downloaded...\n",
      "VHI 16 is downloaded...\n",
      "VHI 17 is downloaded...\n",
      "VHI 18 is downloaded...\n",
      "VHI 19 is downloaded...\n",
      "VHI 20 is downloaded...\n",
      "VHI 21 is downloaded...\n",
      "VHI 22 is downloaded...\n",
      "VHI 23 is downloaded...\n",
      "VHI 24 is downloaded...\n",
      "VHI 25 is downloaded...\n",
      "VHI 26 is downloaded...\n",
      "VHI 27 is downloaded...\n"
     ]
    }
   ],
   "source": [
    "\n",
    "def download_file(i, year1, year2):\n",
    "    time_now = datetime.datetime.now()\n",
    "    date_now = datetime.date.today()\n",
    "\n",
    "    #Отримуємо всі csv файли в каталозі\n",
    "    files = glob.glob('*.csv') \n",
    "        \n",
    "    filename = f\"{i}___{date_now.year}_{date_now.month}_{date_now.day}___{time_now.hour}_{time_now.minute}.csv\"\n",
    "\n",
    "    isExists = False\n",
    "    for file in files:\n",
    "        if file.startswith(f\"{i}___\"):\n",
    "            isExists = True\n",
    "\n",
    "    if isExists:\n",
    "        print(f\"VHI {i} exists in {filename}\")        \n",
    "    else:\n",
    "        vhi_url = urllib.request.urlopen(f\"https://www.star.nesdis.noaa.gov/smcd/emb/vci/VH/get_TS_admin.php?country=UKR&provinceID={i}&year1={year1}&year2={year2}&type=Mean\")\n",
    "\n",
    "        with open(filename, 'wb') as out:\n",
    "            out.write(vhi_url.read())\n",
    "\n",
    "        print(f\"VHI {i} is downloaded...\")\n",
    "\n",
    "year1 = 2000\n",
    "year2 = 2020\n",
    "\n",
    "for i in range (1,28):\n",
    "    download_file(i, year1, year2)"
   ]
  },
  {
   "cell_type": "markdown",
   "metadata": {},
   "source": [
    "<hr>\n",
    "\n",
    "<h2 style=\"text-align:center;\">Зчитування даних у фрейм</h2>"
   ]
  },
  {
   "cell_type": "code",
   "execution_count": 10,
   "metadata": {},
   "outputs": [
    {
     "name": "stdout",
     "output_type": "stream",
     "text": [
      "       pID  Year  Week    SMN     SMT    VCI    TCI    VHI\n",
      "0       10  2000     1  0.033  260.29  21.28  40.64  30.96\n",
      "1       10  2000     2  0.033  260.40  22.74  42.06  32.40\n",
      "2       10  2000     3  0.036  261.40  28.74  39.77  34.26\n",
      "3       10  2000     4  0.043  262.45  36.16  37.55  36.86\n",
      "4       10  2000     5  0.049  264.25  39.26  35.74  37.50\n",
      "...    ...   ...   ...    ...     ...    ...    ...    ...\n",
      "29479    9  2020    48  0.159  277.21  66.52  16.25  41.37\n",
      "29480    9  2020    49  0.150  275.06  65.68  19.44  42.55\n",
      "29481    9  2020    50  0.144  274.00  66.17  18.69  42.43\n",
      "29482    9  2020    51  0.138  272.73  66.79  19.59  43.19\n",
      "29483    9  2020    52  0.132  271.44  67.24  21.90  44.57\n",
      "\n",
      "[27300 rows x 8 columns]\n"
     ]
    }
   ],
   "source": [
    "def make_dataframe(path):\n",
    "    frames = []\n",
    "    headers = [\"Year\", \"Week\", \"SMN\", \"SMT\", \"VCI\", \"TCI\", \"VHI\", \"empty\"]\n",
    "\n",
    "    #Отримуємо всі csv файли в каталозі\n",
    "    files = glob.glob(path + '/*.csv') \n",
    "\n",
    "    for file in files:\n",
    "        file = file.replace(f\"{path}\\\\\", \"\")\n",
    "        province = int(file.split(\"_\")[0])\n",
    "\n",
    "        df = pd.read_csv(file, header=1, names = headers)\n",
    "        df = df.drop(df.index[-1])\n",
    "        \n",
    "        #Конвертація років та тижнів в Integer, потрібно для процедур, де потрібно порівняти ці значення\n",
    "        df.at[0, \"Year\"] = df.at[0, \"Year\"][9:] #Виправлення першого рядка\n",
    "        df[\"Year\"] = df[\"Year\"].astype(int)\n",
    "        df[\"Week\"] = df[\"Week\"].astype(int)\n",
    "\n",
    "        df.insert(0, \"pID\", province, True)\n",
    "        df = df.drop(\"empty\", axis=1)\n",
    "                \n",
    "        frames.append(df)\n",
    "\n",
    "    df = pd.concat(frames).drop_duplicates().reset_index(drop=True)\n",
    "\n",
    "    #12 - Київ, 20 - Севастополь\n",
    "    df = df.loc[(df.pID != 12) & (df.pID != 20)]\n",
    "\n",
    "    return df\n",
    "\n",
    "\n",
    "\n",
    "df = make_dataframe(\"D:\\KPI\\DataAnalys\\Lab2\")\n",
    "print(df)"
   ]
  },
  {
   "cell_type": "markdown",
   "metadata": {},
   "source": [
    "<hr>\n",
    "\n",
    "<h2 style=\"text-align:center;\">Заміна id областей на вказані</h2>"
   ]
  },
  {
   "cell_type": "code",
   "execution_count": 11,
   "metadata": {},
   "outputs": [],
   "source": [
    "def set_new_pid(dataframe):\n",
    "    ids = {\n",
    "        1: 22, # Черкаська\n",
    "        2: 24, # Чернігівська\n",
    "        3: 23, # Чернівецька\n",
    "        4: 25, # Крим\n",
    "        5: 3, # Дніпропетровська\n",
    "        6: 4, # Донецька\n",
    "        7: 8, # Івано-Франківська\n",
    "        8: 19, # Харківська \n",
    "        9: 20, # Херсонська\n",
    "        10: 21, # Хмельницька\n",
    "        11: 9, # Київська\n",
    "        13: 10, # Кіровоградська\n",
    "        14: 11, # Луганська\n",
    "        15: 12, # Львівська\n",
    "        16: 13, # Миколаївська\n",
    "        17: 14, # Одеська\n",
    "        18: 15, # Полтавська\n",
    "        19: 16, # Рівненська\n",
    "        21: 17, # Сумська\n",
    "        22: 18, # Терноспільська\n",
    "        23: 6, # Закарпатська\n",
    "        24: 1, # Віницька \n",
    "        25: 2, # Волинська\n",
    "        26: 7, # Запорізька\n",
    "        27: 5 # Житомирська \n",
    "    }\n",
    "\n",
    "    df = dataframe.copy()\n",
    "    df[\"pID\"] = df[\"pID\"].replace(ids)\n",
    "    return df \n",
    "\n",
    "df = set_new_pid(df)\n",
    "\n"
   ]
  },
  {
   "cell_type": "markdown",
   "metadata": {},
   "source": [
    "<hr>\n",
    "\n",
    "<h2 style=\"text-align:center;\">Реалізувати процедури для формування вибірок</h2>\n",
    "\n",
    "<hr>"
   ]
  },
  {
   "cell_type": "markdown",
   "metadata": {},
   "source": [
    "<p>\n",
    "Ряд для області за вказаний рік, пошук екстремумів (min, max)\n",
    "</p>"
   ]
  },
  {
   "cell_type": "code",
   "execution_count": 12,
   "metadata": {},
   "outputs": [
    {
     "name": "stdout",
     "output_type": "stream",
     "text": [
      "     pID  Year    Min    Max\n",
      "0      1  2000  11.25  63.27\n",
      "1      1  2001  36.50  72.03\n",
      "2      1  2002  44.51  62.03\n",
      "3      1  2003  -1.00  69.49\n",
      "4      1  2004  -1.00  77.27\n",
      "..   ...   ...    ...    ...\n",
      "270   25  2006  32.53  64.97\n",
      "271   25  2007  13.28  58.35\n",
      "272   25  2008  24.03  69.15\n",
      "273   25  2009  20.62  51.34\n",
      "274   25  2010  32.24  57.08\n",
      "\n",
      "[275 rows x 4 columns]\n"
     ]
    }
   ],
   "source": [
    "def min_max(df, year1 = None, year2 = None):\n",
    "    result = []\n",
    "\n",
    "    #Якщо задано діапазон, застосувати його\n",
    "    if year1 != None:\n",
    "        df = df[ df[\"Year\"] >= year1 ]\n",
    "\n",
    "    if year2 != None:\n",
    "        df = df[ df[\"Year\"] <= year2 ]\n",
    "\n",
    "    grouped = df.groupby([\"pID\", \"Year\"])\n",
    "\n",
    "    for (pid, year), group in grouped:\n",
    "        min = group[\"VHI\"].min()\n",
    "        max = group[\"VHI\"].max()\n",
    "\n",
    "        result.append({\"pID\": pid, \"Year\": year, \"Min\": min, \"Max\": max})\n",
    "\n",
    "    return pd.DataFrame(result)\n",
    "\n",
    "print(min_max(df, 2000, 2010))"
   ]
  },
  {
   "cell_type": "markdown",
   "metadata": {},
   "source": [
    "<hr>\n",
    "\n",
    "<p> \n",
    "Ряд за вказаний діапазон років, виявити роки, протягом яких помірні посухи торкнулись більше вказаного відсотка областей по Україні \n",
    "</p>"
   ]
  },
  {
   "cell_type": "code",
   "execution_count": 13,
   "metadata": {},
   "outputs": [
    {
     "name": "stdout",
     "output_type": "stream",
     "text": [
      "  Помірні посухи  \n",
      "------------------\n",
      "Years   %     prov\n",
      "2000   100.0    25\n",
      "2015   60.0    15\n",
      "2019   76.0    19\n",
      "2020   60.0    15\n"
     ]
    }
   ],
   "source": [
    "#Посушливі роки (помірні)\n",
    "def dry_years_m(df, perc, year1 = None, year2 = None):\n",
    "    result = {}\n",
    "\n",
    "    #Якщо задано діапазон, застосувати його\n",
    "    if year1 != None:\n",
    "        df = df[ df[\"Year\"] >= year1 ]\n",
    "\n",
    "    if year2 != None:\n",
    "        df = df[ df[\"Year\"] <= year2 ]\n",
    "\n",
    "    grouped = df.groupby(\"Year\")\n",
    "    \n",
    "    for year, group in grouped:\n",
    "        provinces = group[\"pID\"].nunique()\n",
    "        dry_provinces = group[ (group[\"VHI\"] > 15) & (group[\"VHI\"] < 30) ][\"pID\"].nunique()\n",
    "\n",
    "        if dry_provinces / provinces > perc / 100:\n",
    "            result[year] = (dry_provinces, round((dry_provinces / provinces) * 100, 2))\n",
    "\n",
    "    #Вивід\n",
    "    print(\"  Помірні посухи  \")\n",
    "    print(\"------------------\")\n",
    "    print(f\"Years   %     prov\")\n",
    "    for year, (dry_provinces, percent) in result.items():\n",
    "        print(f\"{year}   {percent}    {dry_provinces}\")\n",
    "\n",
    "dry_years_m(df, 50, 2000, 2020)"
   ]
  },
  {
   "cell_type": "markdown",
   "metadata": {},
   "source": [
    "<hr>\n",
    "\n",
    "<p> \n",
    "Ряд за вказаний діапазон років, виявити роки, протягом яких екстремальні посухи торкнулись більше вказаного відсотка областей по Україні \n",
    "</p>"
   ]
  },
  {
   "cell_type": "code",
   "execution_count": 14,
   "metadata": {},
   "outputs": [
    {
     "name": "stdout",
     "output_type": "stream",
     "text": [
      "Екстремальні  посухи  \n",
      " ------------------\n",
      " Years   %     prov\n",
      " 2003   100.0    25\n",
      " 2004   100.0    25\n",
      " 2005   100.0    25\n"
     ]
    }
   ],
   "source": [
    "#Посушливі роки (екстремальні)\n",
    "def dry_years_e(df, perc, year1, year2):\n",
    "    result = {}\n",
    "    #Якщо задано діапазон, застосувати його\n",
    "    if year1 != None:\n",
    "        df = df[ df[\"Year\"] >= year1 ]\n",
    "\n",
    "    if year2 != None:\n",
    "        df = df[ df[\"Year\"] <= year2 ]\n",
    "\n",
    "    grouped = df.groupby(\"Year\")\n",
    "\n",
    "    for year, group in grouped:\n",
    "        provinces = group[\"pID\"].nunique()\n",
    "        dry_provinces = group[group[\"VHI\"] < 15 ][\"pID\"].nunique()\n",
    "\n",
    "        if dry_provinces / provinces > perc / 100:\n",
    "            result[year] = (dry_provinces, round((dry_provinces / provinces) * 100, 2))\n",
    "\n",
    "    #Вивід\n",
    "    print(\"Екстремальні  посухи  \")\n",
    "    print(\" ------------------\")\n",
    "    print(f\" Years   %     prov\")\n",
    "    for year, (dry_provinces, percent) in result.items():\n",
    "        print(f\" {year}   {percent}    {dry_provinces}\")\n",
    "\n",
    "dry_years_e(df, 50, 2000, 2020)"
   ]
  },
  {
   "cell_type": "markdown",
   "metadata": {},
   "source": [
    "<hr>"
   ]
  }
 ],
 "metadata": {
  "kernelspec": {
   "display_name": "env",
   "language": "python",
   "name": "python3"
  },
  "language_info": {
   "codemirror_mode": {
    "name": "ipython",
    "version": 3
   },
   "file_extension": ".py",
   "mimetype": "text/x-python",
   "name": "python",
   "nbconvert_exporter": "python",
   "pygments_lexer": "ipython3",
   "version": "3.11.7"
  }
 },
 "nbformat": 4,
 "nbformat_minor": 2
}
