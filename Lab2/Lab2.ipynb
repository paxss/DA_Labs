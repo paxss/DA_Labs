{
 "cells": [
  {
   "cell_type": "markdown",
   "metadata": {},
   "source": [
    "<h1 style='text-align: center;'>Лабораторна робота 2</h1>\n",
    "\n",
    "<p style='text-align: end;'><b>ФБ-21 Жиговець Олександр</b></p>\n",
    "\n",
    "<br>\n",
    "\n",
    "<p> \n",
    "<b>Мета роботи:</b> Ознайомитися з основними кроками по роботі з даними - workflow від постановки задачі до написання пояснювальної записки, зрозуміти постановку задачі та природу даних, над якими виконуються аналітичні операції.\n",
    "</p>\n",
    "\n",
    "<br>\n",
    "\n",
    "<p>\n",
    "<b>Основні поняття:</b> raw data, data preparation\n",
    "</p>\n",
    "\n",
    "<hr>"
   ]
  },
  {
   "cell_type": "markdown",
   "metadata": {},
   "source": [
    "\n",
    "<h2 style=\"text-align:center;\">Імпорт бібліотек</h2>"
   ]
  },
  {
   "cell_type": "code",
   "execution_count": 10,
   "metadata": {},
   "outputs": [],
   "source": [
    "import datetime\n",
    "import pandas as pd\n",
    "import urllib.request\n",
    "\n",
    "import glob"
   ]
  },
  {
   "cell_type": "markdown",
   "metadata": {},
   "source": [
    "<hr>\n",
    "\n",
    "<h2 style=\"text-align:center;\">Завантаження файлів</h2>"
   ]
  },
  {
   "cell_type": "code",
   "execution_count": 11,
   "metadata": {},
   "outputs": [
    {
     "name": "stdout",
     "output_type": "stream",
     "text": [
      "VHI 1 is downloaded...\n",
      "VHI 2 is downloaded...\n",
      "VHI 3 is downloaded...\n",
      "VHI 4 is downloaded...\n",
      "VHI 5 is downloaded...\n",
      "VHI 6 is downloaded...\n",
      "VHI 7 is downloaded...\n",
      "VHI 8 is downloaded...\n",
      "VHI 9 is downloaded...\n",
      "VHI 10 is downloaded...\n",
      "VHI 11 is downloaded...\n",
      "VHI 12 is downloaded...\n",
      "VHI 13 is downloaded...\n",
      "VHI 14 is downloaded...\n",
      "VHI 15 is downloaded...\n",
      "VHI 16 is downloaded...\n",
      "VHI 17 is downloaded...\n",
      "VHI 18 is downloaded...\n",
      "VHI 19 is downloaded...\n",
      "VHI 20 is downloaded...\n",
      "VHI 21 is downloaded...\n",
      "VHI 22 is downloaded...\n",
      "VHI 23 is downloaded...\n",
      "VHI 24 is downloaded...\n",
      "VHI 25 is downloaded...\n",
      "VHI 26 is downloaded...\n",
      "VHI 27 is downloaded...\n"
     ]
    }
   ],
   "source": [
    "\n",
    "def download_file(i, year1, year2):\n",
    "    time_now = datetime.datetime.now()\n",
    "    date_now = datetime.date.today()\n",
    "\n",
    "    #Отримуємо всі csv файли в каталозі\n",
    "    files = glob.glob('*.csv') \n",
    "        \n",
    "    filename = f\"{i}___{date_now.year}_{date_now.month}_{date_now.day}___{time_now.hour}_{time_now.minute}.csv\"\n",
    "\n",
    "    isExists = False\n",
    "    for file in files:\n",
    "        if file.startswith(f\"{i}___\"):\n",
    "            isExists = True\n",
    "\n",
    "    if isExists:\n",
    "        print(f\"VHI {i} exists in {filename}\")        \n",
    "    else:\n",
    "        vhi_url = urllib.request.urlopen(f\"https://www.star.nesdis.noaa.gov/smcd/emb/vci/VH/get_TS_admin.php?country=UKR&provinceID={i}&year1={year1}&year2={year2}&type=Mean\")\n",
    "\n",
    "        with open(filename, 'wb') as out:\n",
    "            out.write(vhi_url.read())\n",
    "\n",
    "        print(f\"VHI {i} is downloaded...\")\n",
    "\n",
    "year1 = 1982\n",
    "year2 = 2024\n",
    "\n",
    "for i in range (1,28):\n",
    "    download_file(i, year1, year2)"
   ]
  },
  {
   "cell_type": "markdown",
   "metadata": {},
   "source": [
    "<hr>\n",
    "\n",
    "<h2 style=\"text-align:center;\">Зчитування даних у фрейм</h2>"
   ]
  },
  {
   "cell_type": "code",
   "execution_count": 19,
   "metadata": {},
   "outputs": [
    {
     "name": "stdout",
     "output_type": "stream",
     "text": [
      "       pID  Year  Week    SMN     SMT    VCI    TCI    VHI\n",
      "0       10  1982     1  0.059  258.24  51.11  48.78  49.95\n",
      "1       10  1982     2  0.063  261.53  55.89  38.20  47.04\n",
      "2       10  1982     3  0.063  263.45  57.30  32.69  44.99\n",
      "3       10  1982     4  0.061  265.10  53.96  28.62  41.29\n",
      "4       10  1982     5  0.058  266.42  46.87  28.57  37.72\n",
      "...    ...   ...   ...    ...     ...    ...    ...    ...\n",
      "58153    9  2024    16  0.287  296.47  71.74  10.09  40.92\n",
      "58154    9  2024    17  0.307  297.60  70.66  19.63  45.17\n",
      "58155    9  2024    18  0.323  298.29  69.48  29.98  49.76\n",
      "58156    9  2024    19  0.337  298.79  67.27  40.40  53.88\n",
      "58157    9  2024    20  0.342  299.11  63.62  48.00  55.84\n",
      "\n",
      "[53850 rows x 8 columns]\n"
     ]
    }
   ],
   "source": [
    "def make_dataframe(path):\n",
    "    frames = []\n",
    "    headers = [\"Year\", \"Week\", \"SMN\", \"SMT\", \"VCI\", \"TCI\", \"VHI\", \"empty\"]\n",
    "\n",
    "    #Отримуємо всі csv файли в каталозі\n",
    "    files = glob.glob(path + '/*.csv') \n",
    "\n",
    "    for file in files:\n",
    "        file = file.replace(f\"{path}\\\\\", \"\")\n",
    "        province = int(file.split(\"_\")[0])\n",
    "\n",
    "        df = pd.read_csv(file, header=1, names = headers)\n",
    "        df = df.drop(df.index[-1])\n",
    "        \n",
    "        #Конвертація років та тижнів в Integer, потрібно для процедур, де потрібно порівняти ці значення\n",
    "        df.at[0, \"Year\"] = df.at[0, \"Year\"][9:] #Виправлення першого рядка\n",
    "        df[\"Year\"] = df[\"Year\"].astype(int)\n",
    "        df[\"Week\"] = df[\"Week\"].astype(int)\n",
    "\n",
    "        df.insert(0, \"pID\", province, True)\n",
    "        df = df.drop(\"empty\", axis=1)\n",
    "        df = df.drop(df[df[\"VHI\"] == -1.0].index)\n",
    "        df = df\n",
    "\n",
    "        frames.append(df)\n",
    "\n",
    "    df = pd.concat(frames).drop_duplicates().reset_index(drop=True)\n",
    "\n",
    "    #12 - Київ, 20 - Севастополь\n",
    "    df = df.loc[(df.pID != 12) & (df.pID != 20)]\n",
    "\n",
    "    return df\n",
    "\n",
    "\n",
    "\n",
    "df = make_dataframe(\"D:\\KPI\\DataAnalys\\Lab2\")\n",
    "print(df)"
   ]
  },
  {
   "cell_type": "markdown",
   "metadata": {},
   "source": [
    "<hr>\n",
    "\n",
    "<h2 style=\"text-align:center;\">Заміна id областей на вказані</h2>"
   ]
  },
  {
   "cell_type": "code",
   "execution_count": 13,
   "metadata": {},
   "outputs": [],
   "source": [
    "def set_new_pid(dataframe):\n",
    "    ids = {\n",
    "        1: 22, # Черкаська\n",
    "        2: 24, # Чернігівська\n",
    "        3: 23, # Чернівецька\n",
    "        4: 25, # Крим\n",
    "        5: 3, # Дніпропетровська\n",
    "        6: 4, # Донецька\n",
    "        7: 8, # Івано-Франківська\n",
    "        8: 19, # Харківська \n",
    "        9: 20, # Херсонська\n",
    "        10: 21, # Хмельницька\n",
    "        11: 9, # Київська\n",
    "        13: 10, # Кіровоградська\n",
    "        14: 11, # Луганська\n",
    "        15: 12, # Львівська\n",
    "        16: 13, # Миколаївська\n",
    "        17: 14, # Одеська\n",
    "        18: 15, # Полтавська\n",
    "        19: 16, # Рівненська\n",
    "        21: 17, # Сумська\n",
    "        22: 18, # Терноспільська\n",
    "        23: 6, # Закарпатська\n",
    "        24: 1, # Віницька \n",
    "        25: 2, # Волинська\n",
    "        26: 7, # Запорізька\n",
    "        27: 5 # Житомирська \n",
    "    }\n",
    "\n",
    "    df = dataframe.copy()\n",
    "    df[\"pID\"] = df[\"pID\"].replace(ids)\n",
    "    return df \n",
    "\n",
    "df = set_new_pid(df)\n",
    "\n"
   ]
  },
  {
   "cell_type": "markdown",
   "metadata": {},
   "source": [
    "<hr>\n",
    "\n",
    "<h2 style=\"text-align:center;\">Реалізувати процедури для формування вибірок</h2>\n",
    "\n",
    "<hr>"
   ]
  },
  {
   "cell_type": "markdown",
   "metadata": {},
   "source": [
    "<p>\n",
    "Ряд для області за вказаний рік, пошук екстремумів (min, max)\n",
    "</p>"
   ]
  },
  {
   "cell_type": "code",
   "execution_count": 20,
   "metadata": {},
   "outputs": [
    {
     "name": "stdout",
     "output_type": "stream",
     "text": [
      "     pID  Year    Min    Max\n",
      "0      1  2000  10.68  72.05\n",
      "1      1  2001  40.54  82.09\n",
      "2      1  2002  39.19  65.62\n",
      "3      1  2003  28.14  67.03\n",
      "4      1  2004  50.94  76.98\n",
      "..   ...   ...    ...    ...\n",
      "270   27  2006  39.02  68.75\n",
      "271   27  2007  39.81  62.78\n",
      "272   27  2008  32.91  74.22\n",
      "273   27  2009  26.51  56.49\n",
      "274   27  2010  36.52  63.51\n",
      "\n",
      "[275 rows x 4 columns]\n"
     ]
    }
   ],
   "source": [
    "def min_max(df, year1 = None, year2 = None):\n",
    "    result = []\n",
    "\n",
    "    #Якщо задано діапазон, застосувати його\n",
    "    if year1 != None:\n",
    "        df = df[ df[\"Year\"] >= year1 ]\n",
    "\n",
    "    if year2 != None:\n",
    "        df = df[ df[\"Year\"] <= year2 ]\n",
    "\n",
    "    grouped = df.groupby([\"pID\", \"Year\"])\n",
    "\n",
    "    for (pid, year), group in grouped:\n",
    "        min = group[\"VHI\"].min()\n",
    "        max = group[\"VHI\"].max()\n",
    "\n",
    "        result.append({\"pID\": pid, \"Year\": year, \"Min\": min, \"Max\": max})\n",
    "\n",
    "    return pd.DataFrame(result)\n",
    "\n",
    "print(min_max(df, 2000, 2010))"
   ]
  },
  {
   "cell_type": "markdown",
   "metadata": {},
   "source": [
    "<hr>\n",
    "\n",
    "<p> \n",
    "Ряд за вказаний діапазон років, виявити роки, протягом яких помірні посухи торкнулись більше вказаного відсотка областей по Україні \n",
    "</p>"
   ]
  },
  {
   "cell_type": "code",
   "execution_count": 22,
   "metadata": {},
   "outputs": [
    {
     "name": "stdout",
     "output_type": "stream",
     "text": [
      "  Помірні посухи  \n",
      "------------------\n",
      "Years   %     prov\n",
      "2000   100.0    25\n",
      "2015   60.0    15\n",
      "2019   76.0    19\n",
      "2020   60.0    15\n"
     ]
    }
   ],
   "source": [
    "#Посушливі роки (помірні)\n",
    "def dry_years_m(df, perc, year1 = None, year2 = None):\n",
    "    result = {}\n",
    "\n",
    "    #Якщо задано діапазон, застосувати його\n",
    "    if year1 != None:\n",
    "        df = df[ df[\"Year\"] >= year1 ]\n",
    "\n",
    "    if year2 != None:\n",
    "        df = df[ df[\"Year\"] <= year2 ]\n",
    "\n",
    "    grouped = df.groupby(\"Year\")\n",
    "    \n",
    "    for year, group in grouped:\n",
    "        provinces = group[\"pID\"].nunique()\n",
    "        dry_provinces = group[ (group[\"VHI\"] > 15) & (group[\"VHI\"] < 30) ][\"pID\"].nunique()\n",
    "\n",
    "        if dry_provinces / provinces > perc / 100:\n",
    "            result[year] = (dry_provinces, round((dry_provinces / provinces) * 100, 2))\n",
    "\n",
    "    #Вивід\n",
    "    print(\"  Помірні посухи  \")\n",
    "    print(\"------------------\")\n",
    "    print(f\"Years   %     prov\")\n",
    "    for year, (dry_provinces, percent) in result.items():\n",
    "        print(f\"{year}   {percent}    {dry_provinces}\")\n",
    "\n",
    "dry_years_m(df, 50, 2000, 2020)"
   ]
  },
  {
   "cell_type": "markdown",
   "metadata": {},
   "source": [
    "<hr>\n",
    "\n",
    "<p> \n",
    "Ряд за вказаний діапазон років, виявити роки, протягом яких екстремальні посухи торкнулись більше вказаного відсотка областей по Україні \n",
    "</p>"
   ]
  },
  {
   "cell_type": "code",
   "execution_count": 23,
   "metadata": {},
   "outputs": [
    {
     "name": "stdout",
     "output_type": "stream",
     "text": [
      "Екстремальні  посухи  \n",
      " ------------------\n",
      " Years   %     prov\n"
     ]
    }
   ],
   "source": [
    "#Посушливі роки (екстремальні)\n",
    "def dry_years_e(df, perc, year1, year2):\n",
    "    result = {}\n",
    "    #Якщо задано діапазон, застосувати його\n",
    "    if year1 != None:\n",
    "        df = df[ df[\"Year\"] >= year1 ]\n",
    "\n",
    "    if year2 != None:\n",
    "        df = df[ df[\"Year\"] <= year2 ]\n",
    "\n",
    "    grouped = df.groupby(\"Year\")\n",
    "\n",
    "    for year, group in grouped:\n",
    "        provinces = group[\"pID\"].nunique()\n",
    "        dry_provinces = group[group[\"VHI\"] < 15 ][\"pID\"].nunique()\n",
    "\n",
    "        if dry_provinces / provinces > perc / 100:\n",
    "            result[year] = (dry_provinces, round((dry_provinces / provinces) * 100, 2))\n",
    "\n",
    "    #Вивід\n",
    "    print(\"Екстремальні  посухи  \")\n",
    "    print(\" ------------------\")\n",
    "    print(f\" Years   %     prov\")\n",
    "    for year, (dry_provinces, percent) in result.items():\n",
    "        print(f\" {year}   {percent}    {dry_provinces}\")\n",
    "\n",
    "dry_years_e(df, 19, 2000, 2020)"
   ]
  },
  {
   "cell_type": "markdown",
   "metadata": {},
   "source": [
    "<hr>"
   ]
  }
 ],
 "metadata": {
  "kernelspec": {
   "display_name": "env",
   "language": "python",
   "name": "python3"
  },
  "language_info": {
   "codemirror_mode": {
    "name": "ipython",
    "version": 3
   },
   "file_extension": ".py",
   "mimetype": "text/x-python",
   "name": "python",
   "nbconvert_exporter": "python",
   "pygments_lexer": "ipython3",
   "version": "3.11.7"
  }
 },
 "nbformat": 4,
 "nbformat_minor": 2
}
